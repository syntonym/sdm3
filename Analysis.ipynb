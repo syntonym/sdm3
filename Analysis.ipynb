{
 "cells": [
  {
   "cell_type": "markdown",
   "metadata": {},
   "source": [
    "This is a jupyter notebook. It contains our analysis of the results. You can look at the data below.\n",
    "If you want to reproduce the data first delete the file `output.raw`. Then click above on `Cell` and then `Run All`. This will reevaluate all the code. Click on the Button `Gather Data` below. This will start our program and gather data with the default paramters and might run a long time. You can change the parameters via the forms above the `Gather Data` button. As soon as data is generated the plots below will update automatically."
   ]
  },
  {
   "cell_type": "markdown",
   "metadata": {},
   "source": [
    "If you know python and want to do additional analysis the data is in json format in `data.value` or in the `output.raw` file. Note that in the file there are missing `,` you need to add to form valid data. Call or see the `read(\"output.raw\")` function."
   ]
  },
  {
   "cell_type": "code",
   "execution_count": 36,
   "metadata": {
    "collapsed": true
   },
   "outputs": [],
   "source": [
    "import matplotlib.pyplot as plt\n",
    "import json\n",
    "from functional import seq\n",
    "import itertools\n",
    "import subprocess\n",
    "import collections\n",
    "import os.path\n",
    "import ipywidgets\n",
    "from ipywidgets import widgets\n",
    "from IPython.display import HTML\n",
    "from IPython.display import display\n",
    "\n",
    "try: \n",
    "    from ipywidgets import widgets\n",
    "    from progressbar import log_progress\n",
    "    IPYWIDGETS = True\n",
    "except ModuleNotFoundError:\n",
    "    log_progress = lambda x: x\n",
    "    IPYWIDGETS = False"
   ]
  },
  {
   "cell_type": "code",
   "execution_count": 37,
   "metadata": {
    "collapsed": true
   },
   "outputs": [],
   "source": [
    "data = widgets.Text(value=\"\")"
   ]
  },
  {
   "cell_type": "code",
   "execution_count": 38,
   "metadata": {
    "collapsed": true
   },
   "outputs": [],
   "source": [
    "def sync_data():\n",
    "    try:\n",
    "        data.value = json.dumps(read(\"output.raw\"))\n",
    "    except Exception:\n",
    "        pass"
   ]
  },
  {
   "cell_type": "code",
   "execution_count": 39,
   "metadata": {
    "collapsed": true
   },
   "outputs": [],
   "source": [
    "def read(path):\n",
    "    with open(path, \"r\") as f:\n",
    "        inp = f.read()\n",
    "    inp = inp.replace(\"}\\n{\", \"},\\n{\")\n",
    "    inp = \"[\" + inp + \"]\"\n",
    "    a = json.loads(inp)\n",
    "    return a"
   ]
  },
  {
   "cell_type": "code",
   "execution_count": 40,
   "metadata": {
    "collapsed": true
   },
   "outputs": [],
   "source": [
    "def call(p, randomized_hashes, bucket_width, wauto):\n",
    "    return (\"java\", \"-classpath\", \".:lib/commons-cli-1.4.jar\", \"KMeans\", \n",
    "            \"-testdata\", \"LSH-nmi-adapted.csv\", \n",
    "            \"-width\", str(bucket_width),\n",
    "            \"-p\", str(p),\n",
    "            \"-width_auto\", str(wauto).lower(),\n",
    "            \"-r\", str(randomized_hashes).lower())"
   ]
  },
  {
   "cell_type": "code",
   "execution_count": 41,
   "metadata": {
    "collapsed": true
   },
   "outputs": [],
   "source": [
    "def run_tries(tries=1, ps=(0,5,10), rs=(False, True), ws=(10, 33, 70), wautos=(False, True)):\n",
    "    if not isinstance(ps, collections.Iterable):\n",
    "        ps = [ps]\n",
    "    if not isinstance(rs, collections.Iterable):\n",
    "        rs = [rs]\n",
    "    if not isinstance(ws, collections.Iterable):\n",
    "        ws = [ws]\n",
    "    if not isinstance(wautos, collections.Iterable):\n",
    "        wautos = [wautos]\n",
    "        \n",
    "    product = list(itertools.product(ps, rs, ws, wautos, range(tries)))\n",
    "    for p, r, w, wauto, _ in log_progress(product, every=1):\n",
    "        process = subprocess.run(call(p, r, w, wauto), stdout=subprocess.PIPE)\n",
    "        if process.returncode == 0:\n",
    "            with open(\"output.raw\", mode=\"ab\") as f:\n",
    "                f.write(process.stdout)\n",
    "        else:\n",
    "            print(process.stdout, file=sys.stderr)\n",
    "        sync_data()"
   ]
  },
  {
   "cell_type": "code",
   "execution_count": 42,
   "metadata": {
    "collapsed": true
   },
   "outputs": [],
   "source": [
    "def boxplot(data, x, y):\n",
    "    grouped = seq(data).group_by(lambda data: data[x]).sorted(lambda x: x[0])\n",
    "    x_data = grouped.map(lambda data: data[0])\n",
    "    y_data = grouped.map(lambda data: [line[y] for line in data[1]])\n",
    "    #plt.plot(list(x_data), list(y_data))\n",
    "    plt.boxplot(list(y_data))\n",
    "    plt.xticks(list(range(len(list(y_data)))), list(x_data))\n",
    "\n",
    "    plt.xlabel(x)\n",
    "    plt.ylabel(y)\n",
    "    plt.show()"
   ]
  },
  {
   "cell_type": "code",
   "execution_count": 43,
   "metadata": {
    "collapsed": true
   },
   "outputs": [],
   "source": [
    "def line(data, x, y):\n",
    "\n",
    "    def show_me(j):\n",
    "        try:\n",
    "            data = json.loads(j)\n",
    "\n",
    "            grouped = seq(data).group_by(lambda data: data[x]).sorted(lambda x: x[0])\n",
    "            x_data = grouped.map(lambda data: data[0])\n",
    "            y_data_averaged = grouped.map(lambda data: sum([line[y] for line in data[1]]) / len(data[1]))\n",
    "            x_data_flat = grouped.flat_map(lambda data: [data[0] for _ in data[1]])\n",
    "            y_data_flat = grouped.flat_map(lambda data: [line[y] for line in data[1]])\n",
    "\n",
    "            plt.plot(list(x_data), list(y_data_averaged))\n",
    "            plt.plot(list(x_data_flat), list(y_data_flat), \"o\")\n",
    "\n",
    "            plt.xlabel(x)\n",
    "            plt.ylabel(y)\n",
    "            plt.show()\n",
    "        except json.JSONDecodeError:\n",
    "            pass\n",
    "    \n",
    "    \n",
    "    return ipywidgets.interactive_output(show_me, {\"j\":data})\n"
   ]
  },
  {
   "cell_type": "code",
   "execution_count": 44,
   "metadata": {},
   "outputs": [
    {
     "data": {
      "application/vnd.jupyter.widget-view+json": {
       "model_id": "ed61e8325a2f40d6aa47cee095fec258"
      }
     },
     "metadata": {},
     "output_type": "display_data"
    },
    {
     "data": {
      "application/vnd.jupyter.widget-view+json": {
       "model_id": "8a6d3837ff144821806cd7a1988719ca"
      }
     },
     "metadata": {},
     "output_type": "display_data"
    },
    {
     "data": {
      "application/vnd.jupyter.widget-view+json": {
       "model_id": "91aeb07d2bc04c53be5c22d3ff124b2f"
      }
     },
     "metadata": {},
     "output_type": "display_data"
    },
    {
     "data": {
      "application/vnd.jupyter.widget-view+json": {
       "model_id": "ff4f93e174a34b3c822ef16138d3850c"
      }
     },
     "metadata": {},
     "output_type": "display_data"
    },
    {
     "data": {
      "application/vnd.jupyter.widget-view+json": {
       "model_id": "9973ce72afb74aa18c6b9897f06c2cb8"
      }
     },
     "metadata": {},
     "output_type": "display_data"
    },
    {
     "data": {
      "application/vnd.jupyter.widget-view+json": {
       "model_id": "b478464fdb274355b2321b3c10a123e7"
      }
     },
     "metadata": {},
     "output_type": "display_data"
    },
    {
     "data": {
      "application/vnd.jupyter.widget-view+json": {
       "model_id": "f88fcb8728c942cd817877c4ac309309"
      }
     },
     "metadata": {},
     "output_type": "display_data"
    }
   ],
   "source": [
    "if not os.path.isfile(\"output.raw\"):\n",
    "    if IPYWIDGETS:\n",
    "        label = widgets.HTML(\"Couldn't find output, please gather some.\")\n",
    "        display(label)\n",
    "    else:\n",
    "        print(\"Couldn't find output. I'm now generating data, this might take a long time.\")\n",
    "else:\n",
    "    if IPYWIDGETS:\n",
    "        label = widgets.HTML(\"Data already found! You don't need to gather data to carry on.\")\n",
    "        data.value = json.dumps(read(\"output.raw\"))\n",
    "        display(label)\n",
    "    else:\n",
    "        print(\"Found data, carry on with analysis.\")\n",
    "    \n",
    "if IPYWIDGETS:\n",
    "    layouts = []\n",
    "    default_layout = widgets.Layout()\n",
    "    layouts.append(default_layout)\n",
    "    \n",
    "    button_layout = widgets.Layout(margin=\"20px 40% 20px 40%\", padding=\"20px auto 20px auto\", height=\"50px\")\n",
    "    layouts.append(button_layout)\n",
    "    button = widgets.Button(description=\"Gather Data\", layout=button_layout, button_style=\"danger\")\n",
    "    \n",
    "    random_hashes_dict = {\"Random Hashes\": [True], \"Canonical Projections\": [False], \"Both\": [True, False]}\n",
    "    random_hashes_widget = widgets.ToggleButtons(options=list(random_hashes_dict.keys()),\n",
    "                                                      value=\"Both\", layout=default_layout)\n",
    "\n",
    "    ps_widget_layout = widgets.Layout(width=\"100%\")\n",
    "    layouts.append(ps_widget_layout)\n",
    "    ps_widget = widgets.IntRangeSlider(value=[0,10], min=0, max=10, step=1, \n",
    "                                       layout=ps_widget_layout, description=\"Parameter P for similarity\")\n",
    "    \n",
    "    display(random_hashes_widget)\n",
    "    display(ps_widget)\n",
    "    \n",
    "    \n",
    "    widthautodict = {\"Buckets Auto Width\": [True], \"Buckets Manual Width\": [False], \"Both\": [True, False]}\n",
    "    widthauto = widgets.ToggleButtons(options=list(widthautodict.keys()), value=\"Both\", layout=default_layout)\n",
    "    display(widthauto)\n",
    "    \n",
    "    \n",
    "    widths_widget_layout = widgets.Layout(width=\"100%\")\n",
    "    layouts.append(widths_widget_layout)\n",
    "    widths_widget = widgets.IntRangeSlider(value=[10, 70], min=1, max=200, step=10,\n",
    "                                           layout=widths_widget_layout, description=\"Bucket width\")\n",
    "    display(widths_widget)\n",
    "    \n",
    "    def disable_widths(*args):\n",
    "        if widthauto.value == \"Buckets Auto Width\":\n",
    "            widths_widget_layout.display = \"none\"\n",
    "        else:\n",
    "            widths_widget_layout.display = None\n",
    "            \n",
    "    widthauto.observe(disable_widths)\n",
    "    \n",
    "    display(button)\n",
    "    def on_click(_):\n",
    "        rs = random_hashes_dict[random_hashes_widget.value]\n",
    "        wauto = widthautodict[widthauto.value]\n",
    "        for l in layouts:\n",
    "            l.display = \"none\"\n",
    "        run_tries(rs=list(set(rs)),\n",
    "                  ps=list(set(ps_widget.value)), \n",
    "                  ws=list(set(widths_widget.value)), \n",
    "                  wautos=list(set(wauto)))\n",
    "        for l in layouts:\n",
    "            l.display = None\n",
    "        data_raw = read(\"output.raw\")\n",
    "        data.value = json.dumps(data_raw)\n",
    "    button.on_click(on_click)\n",
    "else:\n",
    "    if not (os.path.isfile(\"output.raw\")):\n",
    "        run_tries()"
   ]
  },
  {
   "cell_type": "code",
   "execution_count": 45,
   "metadata": {},
   "outputs": [],
   "source": [
    "try:\n",
    "    table_content = (\"<table><tr><th>Verfügbare Daten</th></tr><tr><td>\" +\n",
    "            \"</td></tr><tr><td>\".join(list(json.loads(data.value)[0].keys())) +\n",
    "            \"</td></tr></table\")\n",
    "\n",
    "    display(HTML(table_content))\n",
    "except json.JSONDecodeError:\n",
    "    pass"
   ]
  },
  {
   "cell_type": "code",
   "execution_count": 46,
   "metadata": {},
   "outputs": [
    {
     "data": {
      "application/vnd.jupyter.widget-view+json": {
       "model_id": "c4f8e447d87741aba1239cd5277c2a26"
      }
     },
     "metadata": {},
     "output_type": "display_data"
    }
   ],
   "source": [
    "line(data, \"randomizedHashes\", \"time\")"
   ]
  },
  {
   "cell_type": "code",
   "execution_count": 47,
   "metadata": {},
   "outputs": [
    {
     "data": {
      "application/vnd.jupyter.widget-view+json": {
       "model_id": "da0d7ae5878b455d9690eb7e39dc0f00"
      }
     },
     "metadata": {},
     "output_type": "display_data"
    }
   ],
   "source": [
    "line(data, \"bucketWidthsAuto\", \"time\")"
   ]
  },
  {
   "cell_type": "code",
   "execution_count": 48,
   "metadata": {},
   "outputs": [
    {
     "data": {
      "text/html": [
       "<script>\n",
       "  function code_toggle() {\n",
       "    if (code_shown){\n",
       "      $('div.input').hide('500');\n",
       "      $('#toggleButton').val('Show Code')\n",
       "    } else {\n",
       "      $('div.input').show('500');\n",
       "      $('#toggleButton').val('Hide Code')\n",
       "    }\n",
       "    code_shown = !code_shown\n",
       "  }\n",
       "\n",
       "  $( document ).ready(function(){\n",
       "    code_shown=false;\n",
       "    $('div.input').hide()\n",
       "  });\n",
       "</script>\n",
       "<form action=\"javascript:code_toggle()\"><input type=\"submit\" id=\"toggleButton\" value=\"Show Code\"></form>\n"
      ],
      "text/plain": [
       "<IPython.core.display.HTML object>"
      ]
     },
     "metadata": {},
     "output_type": "display_data"
    }
   ],
   "source": [
    "hide_code_javascript = \"\"\"<script>\n",
    "  function code_toggle() {\n",
    "    if (code_shown){\n",
    "      $('div.input').hide('500');\n",
    "      $('#toggleButton').val('Show Code')\n",
    "    } else {\n",
    "      $('div.input').show('500');\n",
    "      $('#toggleButton').val('Hide Code')\n",
    "    }\n",
    "    code_shown = !code_shown\n",
    "  }\n",
    "\n",
    "  $( document ).ready(function(){\n",
    "    code_shown=false;\n",
    "    $('div.input').hide()\n",
    "  });\n",
    "</script>\n",
    "<form action=\"javascript:code_toggle()\"><input type=\"submit\" id=\"toggleButton\" value=\"Show Code\"></form>\n",
    "\"\"\"\n",
    "display(HTML(hide_code_javascript))"
   ]
  },
  {
   "cell_type": "code",
   "execution_count": 49,
   "metadata": {},
   "outputs": [
    {
     "data": {
      "application/vnd.jupyter.widget-view+json": {
       "model_id": "0d0c757ef0b5424ca36e56c7ecdc57a1"
      }
     },
     "metadata": {},
     "output_type": "display_data"
    }
   ],
   "source": [
    "line(data, \"bucket width\", \"time\")"
   ]
  },
  {
   "cell_type": "code",
   "execution_count": 50,
   "metadata": {},
   "outputs": [
    {
     "data": {
      "application/vnd.jupyter.widget-view+json": {
       "model_id": "1f8ff0225282457db230e8e15c980440"
      }
     },
     "metadata": {},
     "output_type": "display_data"
    }
   ],
   "source": [
    "line(data, \"p\", \"time\")"
   ]
  },
  {
   "cell_type": "code",
   "execution_count": 51,
   "metadata": {},
   "outputs": [
    {
     "data": {
      "application/vnd.jupyter.widget-view+json": {
       "model_id": "bfcef38328074982bc361862dad70165"
      }
     },
     "metadata": {},
     "output_type": "display_data"
    }
   ],
   "source": [
    "line(data, \"p\", \"NMI\")"
   ]
  },
  {
   "cell_type": "code",
   "execution_count": 52,
   "metadata": {},
   "outputs": [
    {
     "data": {
      "application/vnd.jupyter.widget-view+json": {
       "model_id": "b40ae93c9f514ec59e2775bb63e9d51d"
      }
     },
     "metadata": {},
     "output_type": "display_data"
    }
   ],
   "source": [
    "line(data, \"bucket width\", \"NMI\")"
   ]
  }
 ],
 "metadata": {
  "kernelspec": {
   "display_name": "Python 3",
   "language": "python",
   "name": "python3"
  },
  "language_info": {
   "codemirror_mode": {
    "name": "ipython",
    "version": 3
   },
   "file_extension": ".py",
   "mimetype": "text/x-python",
   "name": "python",
   "nbconvert_exporter": "python",
   "pygments_lexer": "ipython3",
   "version": "3.6.1"
  }
 },
 "nbformat": 4,
 "nbformat_minor": 2
}
