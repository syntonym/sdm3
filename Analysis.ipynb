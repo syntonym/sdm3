{
 "cells": [
  {
   "cell_type": "markdown",
   "metadata": {},
   "source": [
    "This is a jupyter notebook. It contains our results t"
   ]
  },
  {
   "cell_type": "code",
   "execution_count": 222,
   "metadata": {
    "collapsed": true
   },
   "outputs": [],
   "source": [
    "import matplotlib.pyplot as plt\n",
    "import json\n",
    "from functional import seq\n",
    "import itertools\n",
    "import subprocess\n",
    "import collections\n",
    "import os.path\n",
    "from ipywidgets import widgets\n",
    "from IPython.display import HTML\n",
    "from IPython.display import display\n",
    "\n",
    "try: \n",
    "    from ipywidgets import widgets\n",
    "    from progressbar import log_progress\n",
    "    IPYWIDGETS = True\n",
    "except ModuleNotFoundError:\n",
    "    log_progress = lambda x: x\n",
    "    IPYWIDGETS = False"
   ]
  },
  {
   "cell_type": "code",
   "execution_count": 223,
   "metadata": {
    "collapsed": true
   },
   "outputs": [],
   "source": [
    "data = widgets.Text(value=\"\")"
   ]
  },
  {
   "cell_type": "code",
   "execution_count": 237,
   "metadata": {
    "collapsed": true
   },
   "outputs": [],
   "source": [
    "def sync_data():\n",
    "    data.value = json.dumps(read(\"output.raw\"))"
   ]
  },
  {
   "cell_type": "code",
   "execution_count": 224,
   "metadata": {
    "collapsed": true
   },
   "outputs": [],
   "source": [
    "def read(path):\n",
    "    with open(path, \"r\") as f:\n",
    "        inp = f.read()\n",
    "    inp = inp.replace(\"}\\n{\", \"},\\n{\")\n",
    "    inp = \"[\" + inp + \"]\"\n",
    "    a = json.loads(inp)\n",
    "    return a"
   ]
  },
  {
   "cell_type": "code",
   "execution_count": 225,
   "metadata": {
    "collapsed": true
   },
   "outputs": [],
   "source": [
    "def call(p, randomized_hashes):\n",
    "    return (\"java\", \"-classpath\", \".:lib/commons-cli-1.4.jar\", \"KMeans\", \n",
    "            \"-testdata\", \"LSH-nmi-adapted.csv\", \n",
    "            \"-p\", str(p),\n",
    "            \"-r\", str(randomized_hashes).lower())"
   ]
  },
  {
   "cell_type": "code",
   "execution_count": 238,
   "metadata": {
    "collapsed": true
   },
   "outputs": [],
   "source": [
    "def run_tries(tries=1, ps=(0,1,2,3,4,5,6,7,8,9,10), rs=(False, True)):\n",
    "    if not isinstance(ps, collections.Iterable):\n",
    "        ps = [ps]\n",
    "    if not isinstance(rs, collections.Iterable):\n",
    "        rs = [rs]\n",
    "    product = list(itertools.product(ps, rs, range(tries)))\n",
    "    for p, r, _ in log_progress(product, every=1):\n",
    "        process = subprocess.run(call(p, r), stdout=subprocess.PIPE)\n",
    "        with open(\"output.raw\", mode=\"ab\") as f:\n",
    "            f.write(process.stdout)\n",
    "        sync_data()"
   ]
  },
  {
   "cell_type": "code",
   "execution_count": 227,
   "metadata": {
    "collapsed": true
   },
   "outputs": [],
   "source": [
    "def boxplot(data, x, y):\n",
    "    grouped = seq(data).group_by(lambda data: data[x]).sorted(lambda x: x[0])\n",
    "    x_data = grouped.map(lambda data: data[0])\n",
    "    y_data = grouped.map(lambda data: [line[y] for line in data[1]])\n",
    "    #plt.plot(list(x_data), list(y_data))\n",
    "    plt.boxplot(list(y_data))\n",
    "    plt.xticks(list(range(len(list(y_data)))), list(x_data))\n",
    "\n",
    "    plt.xlabel(x)\n",
    "    plt.ylabel(y)\n",
    "    plt.show()"
   ]
  },
  {
   "cell_type": "code",
   "execution_count": 233,
   "metadata": {
    "collapsed": true
   },
   "outputs": [],
   "source": [
    "def line(data, x, y):\n",
    "\n",
    "    def show_me(j):\n",
    "        data = json.loads(j)\n",
    "    \n",
    "        grouped = seq(data).group_by(lambda data: data[x]).sorted(lambda x: x[0])\n",
    "        x_data = grouped.map(lambda data: data[0])\n",
    "        y_data = grouped.map(lambda data: sum([line[y] for line in data[1]]) / len(data[1]))\n",
    "        plt.plot(list(x_data), list(y_data))\n",
    "        plt.plot(list(x_data), list(y_data), \"o\")\n",
    "\n",
    "        plt.xlabel(x)\n",
    "        plt.ylabel(y)\n",
    "        plt.show()\n",
    "    \n",
    "    \n",
    "    return ipywidgets.interactive_output(show_me, {\"j\":data})\n"
   ]
  },
  {
   "cell_type": "code",
   "execution_count": 229,
   "metadata": {},
   "outputs": [
    {
     "data": {
      "application/vnd.jupyter.widget-view+json": {
       "model_id": "da8764cf325d463ebc474b2ce72bcf2c"
      }
     },
     "metadata": {},
     "output_type": "display_data"
    },
    {
     "data": {
      "application/vnd.jupyter.widget-view+json": {
       "model_id": "4d564efb4ae742c0bbc6d6d78d0a00b5"
      }
     },
     "metadata": {},
     "output_type": "display_data"
    },
    {
     "data": {
      "application/vnd.jupyter.widget-view+json": {
       "model_id": "1cff35d7336441ca81fc0470ef73bb5d"
      }
     },
     "metadata": {},
     "output_type": "display_data"
    },
    {
     "data": {
      "application/vnd.jupyter.widget-view+json": {
       "model_id": "37b9dd1b408f493aa67be7886862f698"
      }
     },
     "metadata": {},
     "output_type": "display_data"
    }
   ],
   "source": [
    "if not os.path.isfile(\"output.raw\"):\n",
    "    if IPYWIDGETS:\n",
    "        label = widgets.HTML(\"Couldn't find output, please gather some.\")\n",
    "        display(label)\n",
    "    else:\n",
    "        print(\"Couldn't find output. I'm now generating data, this might take a long time.\")\n",
    "else:\n",
    "    if IPYWIDGETS:\n",
    "        label = widgets.HTML(\"Data already found! You don't need to gather data to carry on.\")\n",
    "        data.value = json.dumps(read(\"output.raw\"))\n",
    "        display(label)\n",
    "    else:\n",
    "        print(\"Found data, carry on with analysis.\")\n",
    "    \n",
    "if IPYWIDGETS:\n",
    "    layouts = []\n",
    "    default_layout = widgets.Layout()\n",
    "    layouts.append(default_layout)\n",
    "    \n",
    "    button_layout = widgets.Layout(margin=\"20px 40% 20px 40%\", padding=\"20px auto 20px auto\", height=\"50px\")\n",
    "    layouts.append(button_layout)\n",
    "    button = widgets.Button(description=\"Gather Data\", layout=button_layout, button_style=\"danger\")\n",
    "    random_hashes_widget = widgets.ToggleButtons(options=[\"Random Hashes\",\"Canonical Projections\", \"Both\"],\n",
    "                                                      value=\"Both\", layout=default_layout)\n",
    "\n",
    "    ps_widget_layout = widgets.Layout(width=\"100%\")\n",
    "    layouts.append(ps_widget_layout)\n",
    "    ps_widget = widgets.IntRangeSlider(value=[0,10], min=0, max=10, step=1, \n",
    "                                       layout=ps_widget_layout, description=\"Parameter P for similarity\")\n",
    "    \n",
    "    display(random_hashes_widget)\n",
    "    display(ps_widget)\n",
    "    \n",
    "    display(button)\n",
    "    def on_click(_):\n",
    "        if random_hashes_widget.value == \"Both\":\n",
    "            rs = [True, False]\n",
    "        elif random_hashes_widget.value == \"Random Hashes\":\n",
    "            rs = [True]\n",
    "        elif random_hashes_widget.value == \"Canonical Projections\":\n",
    "            rs = [False]\n",
    "        for l in layouts:\n",
    "            l.display = \"none\"\n",
    "        run_tries(rs=rs, ps=ps_widget.value)\n",
    "        for l in layouts:\n",
    "            l.display = None\n",
    "        data_raw = read(\"output.raw\")\n",
    "        data.value = json.dumps(data_raw)\n",
    "    button.on_click(on_click)\n",
    "else:\n",
    "    if not (os.path.isfile(\"output.raw\")):\n",
    "        run_tries()"
   ]
  },
  {
   "cell_type": "code",
   "execution_count": 230,
   "metadata": {},
   "outputs": [
    {
     "data": {
      "text/html": [
       "<script>\n",
       "  function code_toggle() {\n",
       "    if (code_shown){\n",
       "      $('div.input').hide('500');\n",
       "      $('#toggleButton').val('Show Code')\n",
       "    } else {\n",
       "      $('div.input').show('500');\n",
       "      $('#toggleButton').val('Hide Code')\n",
       "    }\n",
       "    code_shown = !code_shown\n",
       "  }\n",
       "\n",
       "  $( document ).ready(function(){\n",
       "    code_shown=false;\n",
       "    $('div.input').hide()\n",
       "  });\n",
       "</script>\n",
       "<form action=\"javascript:code_toggle()\"><input type=\"submit\" id=\"toggleButton\" value=\"Show Code\"></form>\n"
      ],
      "text/plain": [
       "<IPython.core.display.HTML object>"
      ]
     },
     "metadata": {},
     "output_type": "display_data"
    }
   ],
   "source": [
    "hide_code_javascript = \"\"\"<script>\n",
    "  function code_toggle() {\n",
    "    if (code_shown){\n",
    "      $('div.input').hide('500');\n",
    "      $('#toggleButton').val('Show Code')\n",
    "    } else {\n",
    "      $('div.input').show('500');\n",
    "      $('#toggleButton').val('Hide Code')\n",
    "    }\n",
    "    code_shown = !code_shown\n",
    "  }\n",
    "\n",
    "  $( document ).ready(function(){\n",
    "    code_shown=false;\n",
    "    $('div.input').hide()\n",
    "  });\n",
    "</script>\n",
    "<form action=\"javascript:code_toggle()\"><input type=\"submit\" id=\"toggleButton\" value=\"Show Code\"></form>\n",
    "\"\"\"\n",
    "display(HTML(hide_code_javascript))"
   ]
  },
  {
   "cell_type": "code",
   "execution_count": 234,
   "metadata": {},
   "outputs": [
    {
     "data": {
      "application/vnd.jupyter.widget-view+json": {
       "model_id": "e597f6f914de412481438e686f4f6c1f"
      }
     },
     "metadata": {},
     "output_type": "display_data"
    }
   ],
   "source": [
    "line(data, \"p\", \"time\")"
   ]
  },
  {
   "cell_type": "code",
   "execution_count": 236,
   "metadata": {},
   "outputs": [
    {
     "data": {
      "application/vnd.jupyter.widget-view+json": {
       "model_id": "2f6c1edb50cd48a6bd815ea4e90b503b"
      }
     },
     "metadata": {},
     "output_type": "display_data"
    }
   ],
   "source": [
    "line(data, \"p\", \"NMI\")"
   ]
  }
 ],
 "metadata": {
  "kernelspec": {
   "display_name": "Python 3",
   "language": "python",
   "name": "python3"
  },
  "language_info": {
   "codemirror_mode": {
    "name": "ipython",
    "version": 3
   },
   "file_extension": ".py",
   "mimetype": "text/x-python",
   "name": "python",
   "nbconvert_exporter": "python",
   "pygments_lexer": "ipython3",
   "version": "3.6.1"
  }
 },
 "nbformat": 4,
 "nbformat_minor": 2
}
