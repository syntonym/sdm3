{
 "cells": [
  {
   "cell_type": "code",
   "execution_count": 111,
   "metadata": {
    "collapsed": true
   },
   "outputs": [],
   "source": [
    "import matplotlib.pyplot as plt\n",
    "import json\n",
    "from functional import seq\n",
    "import itertools\n",
    "import subprocess\n",
    "import collections\n",
    "import os.path\n",
    "from ipywidgets import widgets\n",
    "from IPython.display import display\n",
    "\n",
    "try: \n",
    "    from ipywidgets import widgets\n",
    "    from progressbar import log_progress\n",
    "    IPYWIDGETS = True\n",
    "except ModuleNotFoundError:\n",
    "    log_progress = lambda x: x\n",
    "    IPYWIDGETS = False"
   ]
  },
  {
   "cell_type": "code",
   "execution_count": 5,
   "metadata": {
    "collapsed": true
   },
   "outputs": [],
   "source": [
    "def read(path):\n",
    "    with open(path, \"r\") as f:\n",
    "        inp = f.read()\n",
    "    inp = inp.replace(\"}\\n{\", \"},\\n{\")\n",
    "    inp = \"[\" + inp + \"]\"\n",
    "    a = json.loads(inp)\n",
    "    return a"
   ]
  },
  {
   "cell_type": "code",
   "execution_count": 53,
   "metadata": {
    "collapsed": true
   },
   "outputs": [],
   "source": [
    "def call(p, randomized_hashes):\n",
    "    return (\"java\", \"-classpath\", \".:lib/commons-cli-1.4.jar\", \"KMeans\", \n",
    "            \"-testdata\", \"LSH-nmi-adapted.csv\", \n",
    "            \"-p\", str(p),\n",
    "            \"-r\", str(randomized_hashes).lower())"
   ]
  },
  {
   "cell_type": "code",
   "execution_count": 69,
   "metadata": {
    "collapsed": true
   },
   "outputs": [],
   "source": [
    "def run_tries(tries=1, ps=(0,1,2,3,4,5,6,7,8,9,10), rs=(False, True)):\n",
    "    if not isinstance(ps, collections.Iterable):\n",
    "        ps = [ps]\n",
    "    if not isinstance(rs, collections.Iterable):\n",
    "        rs = [rs]\n",
    "    product = list(itertools.product(ps, rs, range(tries)))\n",
    "    for p, r, _ in log_progress(product, every=1):\n",
    "        process = subprocess.run(call(p, r), stdout=subprocess.PIPE)\n",
    "        with open(\"output.raw\", mode=\"ab\") as f:\n",
    "            f.write(process.stdout)"
   ]
  },
  {
   "cell_type": "code",
   "execution_count": 50,
   "metadata": {
    "collapsed": true
   },
   "outputs": [],
   "source": [
    "def boxplot(data, x, y):\n",
    "    grouped = seq(data).group_by(lambda data: data[x]).sorted(lambda x: x[0])\n",
    "    x_data = grouped.map(lambda data: data[0])\n",
    "    y_data = grouped.map(lambda data: [line[y] for line in data[1]])\n",
    "    #plt.plot(list(x_data), list(y_data))\n",
    "    plt.boxplot(list(y_data))\n",
    "    plt.xticks(list(range(len(list(y_data)))), list(x_data))\n",
    "\n",
    "    plt.xlabel(x)\n",
    "    plt.ylabel(y)\n",
    "    plt.show()"
   ]
  },
  {
   "cell_type": "code",
   "execution_count": 85,
   "metadata": {
    "collapsed": true
   },
   "outputs": [],
   "source": [
    "def line(data, x, y):\n",
    "    grouped = seq(data).group_by(lambda data: data[x]).sorted(lambda x: x[0])\n",
    "    x_data = grouped.map(lambda data: data[0])\n",
    "    y_data = grouped.map(lambda data: sum([line[y] for line in data[1]]) / len(data[1]))\n",
    "    plt.plot(list(x_data), list(y_data))\n",
    "    plt.plot(list(x_data), list(y_data), \"o\")\n",
    "\n",
    "    plt.xlabel(x)\n",
    "    plt.ylabel(y)\n",
    "    plt.show()"
   ]
  },
  {
   "cell_type": "code",
   "execution_count": 168,
   "metadata": {},
   "outputs": [
    {
     "data": {
      "application/vnd.jupyter.widget-view+json": {
       "model_id": "26c7f82579794eb6809bb689c8c5d74f"
      }
     },
     "metadata": {},
     "output_type": "display_data"
    },
    {
     "data": {
      "application/vnd.jupyter.widget-view+json": {
       "model_id": "fbeffe27e16841a59006cbdd79157cd7"
      }
     },
     "metadata": {},
     "output_type": "display_data"
    },
    {
     "data": {
      "application/vnd.jupyter.widget-view+json": {
       "model_id": "1c223caf9fee478eafefc4b279eece13"
      }
     },
     "metadata": {},
     "output_type": "display_data"
    },
    {
     "data": {
      "application/vnd.jupyter.widget-view+json": {
       "model_id": "156d419800404d33a7e2d1f59da235e2"
      }
     },
     "metadata": {},
     "output_type": "display_data"
    }
   ],
   "source": [
    "if not os.path.isfile(\"output.raw\"):\n",
    "    if IPYWIDGETS:\n",
    "        label = widgets.HTML(\"Couldn't find output, please gather some.\")\n",
    "        display(label)\n",
    "    else:\n",
    "        print(\"Couldn't find output. I'm now generating data, this might take a long time.\")\n",
    "else:\n",
    "    if IPYWIDGETS:\n",
    "        label = widgets.HTML(\"Data already found! You don't need to gather data to carry on.\")\n",
    "        display(label)\n",
    "    else:\n",
    "        print(\"Found data, carry on with analysis.\")\n",
    "    \n",
    "if IPYWIDGETS:\n",
    "    layouts = []\n",
    "    default_layout = widgets.Layout()\n",
    "    layouts.append(default_layout)\n",
    "    \n",
    "    button_layout = widgets.Layout(margin=\"20px 40% 20px 40%\", padding=\"20px auto 20px auto\", height=\"50px\")\n",
    "    layouts.append(button_layout)\n",
    "    button = widgets.Button(description=\"Gather Data\", layout=button_layout, button_style=\"danger\")\n",
    "    random_hashes_widget = widgets.ToggleButtons(options=[\"Random Hashes\",\"Canonical Projections\", \"Both\"],\n",
    "                                                      value=\"Both\", layout=default_layout)\n",
    "\n",
    "    ps_widget_layout = widgets.Layout(width=\"100%\")\n",
    "    layouts.append(ps_widget_layout)\n",
    "    ps_widget = widgets.IntRangeSlider(value=[0,10], min=0, max=10, step=1, \n",
    "                                       layout=ps_widget_layout, description=\"Parameter P for similarity\")\n",
    "    \n",
    "    display(random_hashes_widget)\n",
    "    display(ps_widget)\n",
    "    \n",
    "    display(button)\n",
    "    def on_click(_):\n",
    "        if random_hashes_widget.value == \"Both\":\n",
    "            rs = [True, False]\n",
    "        elif random_hashes_widget.value == \"Random Hashes\":\n",
    "            rs = [True]\n",
    "        elif random_hashes_widget.value == \"Canonical Projections\":\n",
    "            rs = [False]\n",
    "        for l in layouts:\n",
    "            l.display = \"none\"\n",
    "        run_tries(rs=rs, ps=ps_widget.value)\n",
    "        for l in layouts:\n",
    "            l.display = None\n",
    "    button.on_click(on_click)\n",
    "else:\n",
    "    if not (os.path.isfile(\"output.raw\")):\n",
    "        run_tries()"
   ]
  },
  {
   "cell_type": "code",
   "execution_count": 153,
   "metadata": {},
   "outputs": [],
   "source": [
    "layouts[0].display = None"
   ]
  },
  {
   "cell_type": "code",
   "execution_count": 125,
   "metadata": {},
   "outputs": [
    {
     "data": {
      "text/plain": [
       "'Both'"
      ]
     },
     "execution_count": 125,
     "metadata": {},
     "output_type": "execute_result"
    }
   ],
   "source": [
    "random_hashes_widget.value"
   ]
  },
  {
   "cell_type": "code",
   "execution_count": 109,
   "metadata": {},
   "outputs": [],
   "source": [
    "\n",
    "#output = read(\"output.raw\")\n",
    "\n",
    "with open(\"output.raw\", \"r\") as f:\n",
    "    inp = f.read()\n",
    "inp = inp.replace(\"false\", \"\")\n",
    "inp = inp.replace(\"true\", \"\")\n",
    "inp = inp.replace(\"\\n\\n\", \"\\n\")\n",
    "inp = inp.replace(\"}\\n{\", \"},\\n{\")\n",
    "inp = \"[\" + inp + \"]\"\n",
    "output = json.loads(inp)\n"
   ]
  },
  {
   "cell_type": "code",
   "execution_count": 100,
   "metadata": {},
   "outputs": [
    {
     "data": {
      "image/png": "[encoded data removed]",
      "text/plain": [
       "<matplotlib.figure.Figure at 0x7fda5d290c88>"
      ]
     },
     "metadata": {},
     "output_type": "display_data"
    }
   ],
   "source": [
    "line(output, \"p\", \"time\")"
   ]
  },
  {
   "cell_type": "code",
   "execution_count": 99,
   "metadata": {},
   "outputs": [
    {
     "data": {
      "image/png": "[encoded data removed]",
      "text/plain": [
       "<matplotlib.figure.Figure at 0x7fda603f5630>"
      ]
     },
     "metadata": {},
     "output_type": "display_data"
    }
   ],
   "source": [
    "line(output, \"p\", \"NMI\")"
   ]
  }
 ],
 "metadata": {
  "kernelspec": {
   "display_name": "Python 3",
   "language": "python",
   "name": "python3"
  },
  "language_info": {
   "codemirror_mode": {
    "name": "ipython",
    "version": 3
   },
   "file_extension": ".py",
   "mimetype": "text/x-python",
   "name": "python",
   "nbconvert_exporter": "python",
   "pygments_lexer": "ipython3",
   "version": "3.6.1"
  }
 },
 "nbformat": 4,
 "nbformat_minor": 2
}
